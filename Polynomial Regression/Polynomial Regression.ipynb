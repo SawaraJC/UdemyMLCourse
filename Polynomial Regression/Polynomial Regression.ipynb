{
 "cells": [
  {
   "cell_type": "code",
   "execution_count": 3,
   "id": "120d8d96",
   "metadata": {},
   "outputs": [],
   "source": [
    "import numpy as np\n",
    "import pandas as pd\n",
    "import matplotlib.pyplot as plt\n",
    "%matplotlib inline"
   ]
  },
  {
   "cell_type": "code",
   "execution_count": 4,
   "id": "701b29de",
   "metadata": {},
   "outputs": [],
   "source": [
    "X = 6 * np.random.rand(100,1) - 3\n",
    "y = 0.5 * X**2 + 1.5*X + 2 + np.random.randn(100,1)"
   ]
  },
  {
   "cell_type": "code",
   "execution_count": 6,
   "id": "20bd226d",
   "metadata": {},
   "outputs": [
    {
     "data": {
      "text/plain": [
       "Text(0, 0.5, 'Y dataset')"
      ]
     },
     "execution_count": 6,
     "metadata": {},
     "output_type": "execute_result"
    },
    {
     "data": {
      "image/png": "[encoded data removed]",
      "text/plain": [
       "<Figure size 432x288 with 1 Axes>"
      ]
     },
     "metadata": {
      "needs_background": "light"
     },
     "output_type": "display_data"
    }
   ],
   "source": [
    "plt.scatter(X, y, color='g')\n",
    "plt.xlabel('X dataset')\n",
    "plt.ylabel('Y dataset')"
   ]
  },
  {
   "cell_type": "code",
   "execution_count": 7,
   "id": "2133f000",
   "metadata": {},
   "outputs": [],
   "source": [
    "from sklearn.model_selection import train_test_split"
   ]
  },
  {
   "cell_type": "code",
   "execution_count": 8,
   "id": "ceb92872",
   "metadata": {},
   "outputs": [],
   "source": [
    "X_train, X_test, y_train, y_test = train_test_split(X,y,test_size=0.2, random_state=42)"
   ]
  },
  {
   "cell_type": "code",
   "execution_count": 9,
   "id": "ef5282c3",
   "metadata": {},
   "outputs": [],
   "source": [
    "#implement simple linear regression\n",
    "from sklearn.linear_model import LinearRegression\n",
    "regression = LinearRegression()"
   ]
  },
  {
   "cell_type": "code",
   "execution_count": 10,
   "id": "a6f04576",
   "metadata": {},
   "outputs": [
    {
     "data": {
      "text/html": [
       "<style>#sk-container-id-1 {color: black;background-color: white;}#sk-container-id-1 pre{padding: 0;}#sk-container-id-1 div.sk-toggleable {background-color: white;}#sk-container-id-1 label.sk-toggleable__label {cursor: pointer;display: block;width: 100%;margin-bottom: 0;padding: 0.3em;box-sizing: border-box;text-align: center;}#sk-container-id-1 label.sk-toggleable__label-arrow:before {content: \"▸\";float: left;margin-right: 0.25em;color: #696969;}#sk-container-id-1 label.sk-toggleable__label-arrow:hover:before {color: black;}#sk-container-id-1 div.sk-estimator:hover label.sk-toggleable__label-arrow:before {color: black;}#sk-container-id-1 div.sk-toggleable__content {max-height: 0;max-width: 0;overflow: hidden;text-align: left;background-color: #f0f8ff;}#sk-container-id-1 div.sk-toggleable__content pre {margin: 0.2em;color: black;border-radius: 0.25em;background-color: #f0f8ff;}#sk-container-id-1 input.sk-toggleable__control:checked~div.sk-toggleable__content {max-height: 200px;max-width: 100%;overflow: auto;}#sk-container-id-1 input.sk-toggleable__control:checked~label.sk-toggleable__label-arrow:before {content: \"▾\";}#sk-container-id-1 div.sk-estimator input.sk-toggleable__control:checked~label.sk-toggleable__label {background-color: #d4ebff;}#sk-container-id-1 div.sk-label input.sk-toggleable__control:checked~label.sk-toggleable__label {background-color: #d4ebff;}#sk-container-id-1 input.sk-hidden--visually {border: 0;clip: rect(1px 1px 1px 1px);clip: rect(1px, 1px, 1px, 1px);height: 1px;margin: -1px;overflow: hidden;padding: 0;position: absolute;width: 1px;}#sk-container-id-1 div.sk-estimator {font-family: monospace;background-color: #f0f8ff;border: 1px dotted black;border-radius: 0.25em;box-sizing: border-box;margin-bottom: 0.5em;}#sk-container-id-1 div.sk-estimator:hover {background-color: #d4ebff;}#sk-container-id-1 div.sk-parallel-item::after {content: \"\";width: 100%;border-bottom: 1px solid gray;flex-grow: 1;}#sk-container-id-1 div.sk-label:hover label.sk-toggleable__label {background-color: #d4ebff;}#sk-container-id-1 div.sk-serial::before {content: \"\";position: absolute;border-left: 1px solid gray;box-sizing: border-box;top: 0;bottom: 0;left: 50%;z-index: 0;}#sk-container-id-1 div.sk-serial {display: flex;flex-direction: column;align-items: center;background-color: white;padding-right: 0.2em;padding-left: 0.2em;position: relative;}#sk-container-id-1 div.sk-item {position: relative;z-index: 1;}#sk-container-id-1 div.sk-parallel {display: flex;align-items: stretch;justify-content: center;background-color: white;position: relative;}#sk-container-id-1 div.sk-item::before, #sk-container-id-1 div.sk-parallel-item::before {content: \"\";position: absolute;border-left: 1px solid gray;box-sizing: border-box;top: 0;bottom: 0;left: 50%;z-index: -1;}#sk-container-id-1 div.sk-parallel-item {display: flex;flex-direction: column;z-index: 1;position: relative;background-color: white;}#sk-container-id-1 div.sk-parallel-item:first-child::after {align-self: flex-end;width: 50%;}#sk-container-id-1 div.sk-parallel-item:last-child::after {align-self: flex-start;width: 50%;}#sk-container-id-1 div.sk-parallel-item:only-child::after {width: 0;}#sk-container-id-1 div.sk-dashed-wrapped {border: 1px dashed gray;margin: 0 0.4em 0.5em 0.4em;box-sizing: border-box;padding-bottom: 0.4em;background-color: white;}#sk-container-id-1 div.sk-label label {font-family: monospace;font-weight: bold;display: inline-block;line-height: 1.2em;}#sk-container-id-1 div.sk-label-container {text-align: center;}#sk-container-id-1 div.sk-container {/* jupyter's `normalize.less` sets `[hidden] { display: none; }` but bootstrap.min.css set `[hidden] { display: none !important; }` so we also need the `!important` here to be able to override the default hidden behavior on the sphinx rendered scikit-learn.org. See: https://github.com/scikit-learn/scikit-learn/issues/21755 */display: inline-block !important;position: relative;}#sk-container-id-1 div.sk-text-repr-fallback {display: none;}</style><div id=\"sk-container-id-1\" class=\"sk-top-container\"><div class=\"sk-text-repr-fallback\"><pre>LinearRegression()</pre><b>In a Jupyter environment, please rerun this cell to show the HTML representation or trust the notebook. <br />On GitHub, the HTML representation is unable to render, please try loading this page with nbviewer.org.</b></div><div class=\"sk-container\" hidden><div class=\"sk-item\"><div class=\"sk-estimator sk-toggleable\"><input class=\"sk-toggleable__control sk-hidden--visually\" id=\"sk-estimator-id-1\" type=\"checkbox\" checked><label for=\"sk-estimator-id-1\" class=\"sk-toggleable__label sk-toggleable__label-arrow\">LinearRegression</label><div class=\"sk-toggleable__content\"><pre>LinearRegression()</pre></div></div></div></div></div>"
      ],
      "text/plain": [
       "LinearRegression()"
      ]
     },
     "execution_count": 10,
     "metadata": {},
     "output_type": "execute_result"
    }
   ],
   "source": [
    "regression"
   ]
  },
  {
   "cell_type": "code",
   "execution_count": 11,
   "id": "4cda7e4f",
   "metadata": {},
   "outputs": [
    {
     "data": {
      "text/html": [
       "<style>#sk-container-id-2 {color: black;background-color: white;}#sk-container-id-2 pre{padding: 0;}#sk-container-id-2 div.sk-toggleable {background-color: white;}#sk-container-id-2 label.sk-toggleable__label {cursor: pointer;display: block;width: 100%;margin-bottom: 0;padding: 0.3em;box-sizing: border-box;text-align: center;}#sk-container-id-2 label.sk-toggleable__label-arrow:before {content: \"▸\";float: left;margin-right: 0.25em;color: #696969;}#sk-container-id-2 label.sk-toggleable__label-arrow:hover:before {color: black;}#sk-container-id-2 div.sk-estimator:hover label.sk-toggleable__label-arrow:before {color: black;}#sk-container-id-2 div.sk-toggleable__content {max-height: 0;max-width: 0;overflow: hidden;text-align: left;background-color: #f0f8ff;}#sk-container-id-2 div.sk-toggleable__content pre {margin: 0.2em;color: black;border-radius: 0.25em;background-color: #f0f8ff;}#sk-container-id-2 input.sk-toggleable__control:checked~div.sk-toggleable__content {max-height: 200px;max-width: 100%;overflow: auto;}#sk-container-id-2 input.sk-toggleable__control:checked~label.sk-toggleable__label-arrow:before {content: \"▾\";}#sk-container-id-2 div.sk-estimator input.sk-toggleable__control:checked~label.sk-toggleable__label {background-color: #d4ebff;}#sk-container-id-2 div.sk-label input.sk-toggleable__control:checked~label.sk-toggleable__label {background-color: #d4ebff;}#sk-container-id-2 input.sk-hidden--visually {border: 0;clip: rect(1px 1px 1px 1px);clip: rect(1px, 1px, 1px, 1px);height: 1px;margin: -1px;overflow: hidden;padding: 0;position: absolute;width: 1px;}#sk-container-id-2 div.sk-estimator {font-family: monospace;background-color: #f0f8ff;border: 1px dotted black;border-radius: 0.25em;box-sizing: border-box;margin-bottom: 0.5em;}#sk-container-id-2 div.sk-estimator:hover {background-color: #d4ebff;}#sk-container-id-2 div.sk-parallel-item::after {content: \"\";width: 100%;border-bottom: 1px solid gray;flex-grow: 1;}#sk-container-id-2 div.sk-label:hover label.sk-toggleable__label {background-color: #d4ebff;}#sk-container-id-2 div.sk-serial::before {content: \"\";position: absolute;border-left: 1px solid gray;box-sizing: border-box;top: 0;bottom: 0;left: 50%;z-index: 0;}#sk-container-id-2 div.sk-serial {display: flex;flex-direction: column;align-items: center;background-color: white;padding-right: 0.2em;padding-left: 0.2em;position: relative;}#sk-container-id-2 div.sk-item {position: relative;z-index: 1;}#sk-container-id-2 div.sk-parallel {display: flex;align-items: stretch;justify-content: center;background-color: white;position: relative;}#sk-container-id-2 div.sk-item::before, #sk-container-id-2 div.sk-parallel-item::before {content: \"\";position: absolute;border-left: 1px solid gray;box-sizing: border-box;top: 0;bottom: 0;left: 50%;z-index: -1;}#sk-container-id-2 div.sk-parallel-item {display: flex;flex-direction: column;z-index: 1;position: relative;background-color: white;}#sk-container-id-2 div.sk-parallel-item:first-child::after {align-self: flex-end;width: 50%;}#sk-container-id-2 div.sk-parallel-item:last-child::after {align-self: flex-start;width: 50%;}#sk-container-id-2 div.sk-parallel-item:only-child::after {width: 0;}#sk-container-id-2 div.sk-dashed-wrapped {border: 1px dashed gray;margin: 0 0.4em 0.5em 0.4em;box-sizing: border-box;padding-bottom: 0.4em;background-color: white;}#sk-container-id-2 div.sk-label label {font-family: monospace;font-weight: bold;display: inline-block;line-height: 1.2em;}#sk-container-id-2 div.sk-label-container {text-align: center;}#sk-container-id-2 div.sk-container {/* jupyter's `normalize.less` sets `[hidden] { display: none; }` but bootstrap.min.css set `[hidden] { display: none !important; }` so we also need the `!important` here to be able to override the default hidden behavior on the sphinx rendered scikit-learn.org. See: https://github.com/scikit-learn/scikit-learn/issues/21755 */display: inline-block !important;position: relative;}#sk-container-id-2 div.sk-text-repr-fallback {display: none;}</style><div id=\"sk-container-id-2\" class=\"sk-top-container\"><div class=\"sk-text-repr-fallback\"><pre>LinearRegression()</pre><b>In a Jupyter environment, please rerun this cell to show the HTML representation or trust the notebook. <br />On GitHub, the HTML representation is unable to render, please try loading this page with nbviewer.org.</b></div><div class=\"sk-container\" hidden><div class=\"sk-item\"><div class=\"sk-estimator sk-toggleable\"><input class=\"sk-toggleable__control sk-hidden--visually\" id=\"sk-estimator-id-2\" type=\"checkbox\" checked><label for=\"sk-estimator-id-2\" class=\"sk-toggleable__label sk-toggleable__label-arrow\">LinearRegression</label><div class=\"sk-toggleable__content\"><pre>LinearRegression()</pre></div></div></div></div></div>"
      ],
      "text/plain": [
       "LinearRegression()"
      ]
     },
     "execution_count": 11,
     "metadata": {},
     "output_type": "execute_result"
    }
   ],
   "source": [
    "regression.fit(X_train, y_train)"
   ]
  },
  {
   "cell_type": "code",
   "execution_count": 12,
   "id": "69b5d27c",
   "metadata": {},
   "outputs": [],
   "source": [
    "from sklearn.metrics import r2_score"
   ]
  },
  {
   "cell_type": "code",
   "execution_count": 15,
   "id": "bd38677b",
   "metadata": {},
   "outputs": [
    {
     "name": "stdout",
     "output_type": "stream",
     "text": [
      "0.5568435259214852\n"
     ]
    }
   ],
   "source": [
    "score = r2_score(y_test, regression.predict(X_test))\n",
    "print(score)\n",
    "\n",
    "#poor accuracy because of the curvature in spread of data points"
   ]
  },
  {
   "cell_type": "code",
   "execution_count": 16,
   "id": "483182d9",
   "metadata": {},
   "outputs": [
    {
     "data": {
      "text/plain": [
       "Text(0, 0.5, 'Y dataset')"
      ]
     },
     "execution_count": 16,
     "metadata": {},
     "output_type": "execute_result"
    },
    {
     "data": {
      "image/png": "[encoded data removed]",
      "text/plain": [
       "<Figure size 432x288 with 1 Axes>"
      ]
     },
     "metadata": {
      "needs_background": "light"
     },
     "output_type": "display_data"
    }
   ],
   "source": [
    "#visualise model\n",
    "plt.plot(X_train, regression.predict(X_train), color='r')\n",
    "plt.scatter(X_train, y_train)\n",
    "plt.xlabel('X dataset')\n",
    "plt.ylabel('Y dataset')"
   ]
  },
  {
   "cell_type": "code",
   "execution_count": 17,
   "id": "d5fe0585",
   "metadata": {},
   "outputs": [],
   "source": [
    "#Lets apply polynomial transformation\n",
    "from sklearn.preprocessing import PolynomialFeatures"
   ]
  },
  {
   "cell_type": "code",
   "execution_count": 18,
   "id": "748fc78c",
   "metadata": {},
   "outputs": [],
   "source": [
    "poly = PolynomialFeatures(degree=2, include_bias=True)"
   ]
  },
  {
   "cell_type": "code",
   "execution_count": 19,
   "id": "bb9c97e2",
   "metadata": {},
   "outputs": [],
   "source": [
    "X_train_poly = poly.fit_transform(X_train)\n",
    "X_test_poly = poly.transform(X_test)"
   ]
  },
  {
   "cell_type": "code",
   "execution_count": 20,
   "id": "3c090968",
   "metadata": {},
   "outputs": [
    {
     "data": {
      "text/plain": [
       "array([[ 1.        ,  0.25616999,  0.06562306],\n",
       "       [ 1.        , -0.75473266,  0.56962139],\n",
       "       [ 1.        ,  1.95792769,  3.83348082],\n",
       "       [ 1.        ,  2.73370472,  7.47314148],\n",
       "       [ 1.        , -0.35006648,  0.12254654],\n",
       "       [ 1.        ,  1.55931058,  2.43144948],\n",
       "       [ 1.        , -0.47066072,  0.22152151],\n",
       "       [ 1.        , -0.1220409 ,  0.01489398],\n",
       "       [ 1.        , -0.59545656,  0.35456852],\n",
       "       [ 1.        ,  1.26492616,  1.6000382 ],\n",
       "       [ 1.        , -1.8490974 ,  3.4191612 ],\n",
       "       [ 1.        , -2.61729433,  6.85022961],\n",
       "       [ 1.        , -2.47189393,  6.11025961],\n",
       "       [ 1.        , -2.3836625 ,  5.6818469 ],\n",
       "       [ 1.        , -1.2741105 ,  1.62335757],\n",
       "       [ 1.        ,  2.35530425,  5.54745811],\n",
       "       [ 1.        , -1.61262808,  2.60056933],\n",
       "       [ 1.        , -0.10526839,  0.01108143],\n",
       "       [ 1.        ,  2.49481755,  6.22411461],\n",
       "       [ 1.        , -0.82649909,  0.68310075],\n",
       "       [ 1.        , -1.58586125,  2.51495591],\n",
       "       [ 1.        ,  1.20375586,  1.44902816],\n",
       "       [ 1.        , -0.51775885,  0.26807423],\n",
       "       [ 1.        ,  1.80081974,  3.24295173],\n",
       "       [ 1.        , -1.16438333,  1.35578854],\n",
       "       [ 1.        , -2.73624509,  7.48703721],\n",
       "       [ 1.        , -0.90169368,  0.81305149],\n",
       "       [ 1.        , -1.15822426,  1.34148343],\n",
       "       [ 1.        ,  0.4890038 ,  0.23912472],\n",
       "       [ 1.        ,  1.07476348,  1.15511653],\n",
       "       [ 1.        ,  1.08998745,  1.18807265],\n",
       "       [ 1.        ,  1.43332738,  2.05442739],\n",
       "       [ 1.        ,  2.77697174,  7.71157204],\n",
       "       [ 1.        , -1.79233594,  3.21246814],\n",
       "       [ 1.        ,  2.57177797,  6.61404193],\n",
       "       [ 1.        ,  0.9072682 ,  0.82313558],\n",
       "       [ 1.        ,  2.70328277,  7.30773775],\n",
       "       [ 1.        ,  2.96051002,  8.76461958],\n",
       "       [ 1.        ,  0.86252252,  0.74394511],\n",
       "       [ 1.        , -1.99877004,  3.99508168],\n",
       "       [ 1.        , -1.60185661,  2.56594459],\n",
       "       [ 1.        , -2.93762682,  8.62965131],\n",
       "       [ 1.        ,  1.31001784,  1.71614674],\n",
       "       [ 1.        , -1.35564119,  1.83776302],\n",
       "       [ 1.        ,  1.64128237,  2.69380781],\n",
       "       [ 1.        , -2.4547438 ,  6.0257671 ],\n",
       "       [ 1.        ,  2.86043467,  8.18208653],\n",
       "       [ 1.        , -1.76532858,  3.11638501],\n",
       "       [ 1.        ,  0.52082168,  0.27125523],\n",
       "       [ 1.        , -1.63892213,  2.68606576],\n",
       "       [ 1.        ,  2.10519102,  4.43182922],\n",
       "       [ 1.        ,  0.25010719,  0.06255361],\n",
       "       [ 1.        ,  1.06156827,  1.12692718],\n",
       "       [ 1.        ,  0.8903951 ,  0.79280343],\n",
       "       [ 1.        , -0.4310743 ,  0.18582505],\n",
       "       [ 1.        , -2.24765366,  5.05194696],\n",
       "       [ 1.        , -2.23970557,  5.01628106],\n",
       "       [ 1.        , -1.03840502,  1.07828499],\n",
       "       [ 1.        ,  2.90168103,  8.41975277],\n",
       "       [ 1.        ,  2.62139163,  6.87169409],\n",
       "       [ 1.        ,  0.2339    ,  0.05470921],\n",
       "       [ 1.        , -0.21438825,  0.04596232],\n",
       "       [ 1.        , -0.208647  ,  0.04353357],\n",
       "       [ 1.        ,  1.86846277,  3.49115313],\n",
       "       [ 1.        ,  0.41421809,  0.17157663],\n",
       "       [ 1.        , -0.77025102,  0.59328663],\n",
       "       [ 1.        ,  1.95753412,  3.83193983],\n",
       "       [ 1.        ,  2.93794047,  8.6314942 ],\n",
       "       [ 1.        , -2.1958732 ,  4.82185912],\n",
       "       [ 1.        ,  0.97939273,  0.95921012],\n",
       "       [ 1.        ,  1.75598153,  3.08347115],\n",
       "       [ 1.        ,  1.1905627 ,  1.41743953],\n",
       "       [ 1.        ,  0.57704914,  0.33298571],\n",
       "       [ 1.        , -0.57053141,  0.32550609],\n",
       "       [ 1.        ,  1.90305416,  3.62161512],\n",
       "       [ 1.        , -2.44794221,  5.99242108],\n",
       "       [ 1.        ,  1.88669056,  3.55960128],\n",
       "       [ 1.        , -1.61713298,  2.61511907],\n",
       "       [ 1.        ,  0.64216922,  0.41238131],\n",
       "       [ 1.        , -2.53062359,  6.40405576]])"
      ]
     },
     "execution_count": 20,
     "metadata": {},
     "output_type": "execute_result"
    }
   ],
   "source": [
    "X_train_poly"
   ]
  },
  {
   "cell_type": "code",
   "execution_count": 21,
   "id": "e80af60c",
   "metadata": {},
   "outputs": [
    {
     "name": "stdout",
     "output_type": "stream",
     "text": [
      "0.775162041064327\n"
     ]
    }
   ],
   "source": [
    "#poly regression (improved accuracy)\n",
    "from sklearn.metrics import r2_score\n",
    "regression = LinearRegression()\n",
    "regression.fit(X_train_poly, y_train)\n",
    "y_pred = regression.predict(X_test_poly)\n",
    "score = r2_score(y_test, y_pred)\n",
    "print(score)"
   ]
  },
  {
   "cell_type": "code",
   "execution_count": 22,
   "id": "0eb1e893",
   "metadata": {},
   "outputs": [
    {
     "name": "stdout",
     "output_type": "stream",
     "text": [
      "[[0.         1.44314188 0.47305006]]\n"
     ]
    }
   ],
   "source": [
    "print(regression.coef_)"
   ]
  },
  {
   "cell_type": "code",
   "execution_count": 25,
   "id": "1295e214",
   "metadata": {},
   "outputs": [
    {
     "data": {
      "text/plain": [
       "<matplotlib.collections.PathCollection at 0x297d32d8d00>"
      ]
     },
     "execution_count": 25,
     "metadata": {},
     "output_type": "execute_result"
    },
    {
     "data": {
      "image/png": "[encoded data removed]",
      "text/plain": [
       "<Figure size 432x288 with 1 Axes>"
      ]
     },
     "metadata": {
      "needs_background": "light"
     },
     "output_type": "display_data"
    }
   ],
   "source": [
    "plt.scatter(X_train, regression.predict(X_train_poly))\n",
    "plt.scatter(X_train, y_train)"
   ]
  },
  {
   "cell_type": "code",
   "execution_count": 26,
   "id": "bb8fa3b3",
   "metadata": {},
   "outputs": [],
   "source": [
    "poly = PolynomialFeatures(degree=3, include_bias=True)\n",
    "X_train_poly = poly.fit_transform(X_train)\n",
    "X_test_poly = poly.transform(X_test)"
   ]
  },
  {
   "cell_type": "code",
   "execution_count": 28,
   "id": "df40e327",
   "metadata": {},
   "outputs": [
    {
     "data": {
      "text/plain": [
       "array([[ 1.00000000e+00,  2.56169985e-01,  6.56230612e-02,\n",
       "         1.68106586e-02],\n",
       "       [ 1.00000000e+00, -7.54732660e-01,  5.69621388e-01,\n",
       "        -4.29911865e-01],\n",
       "       [ 1.00000000e+00,  1.95792769e+00,  3.83348082e+00,\n",
       "         7.50567824e+00],\n",
       "       [ 1.00000000e+00,  2.73370472e+00,  7.47314148e+00,\n",
       "         2.04293621e+01],\n",
       "       [ 1.00000000e+00, -3.50066483e-01,  1.22546542e-01,\n",
       "        -4.28994371e-02],\n",
       "       [ 1.00000000e+00,  1.55931058e+00,  2.43144948e+00,\n",
       "         3.79138490e+00],\n",
       "       [ 1.00000000e+00, -4.70660716e-01,  2.21521510e-01,\n",
       "        -1.04261472e-01],\n",
       "       [ 1.00000000e+00, -1.22040904e-01,  1.48939823e-02,\n",
       "        -1.81767507e-03],\n",
       "       [ 1.00000000e+00, -5.95456564e-01,  3.54568520e-01,\n",
       "        -2.11130152e-01],\n",
       "       [ 1.00000000e+00,  1.26492616e+00,  1.60003820e+00,\n",
       "         2.02393017e+00],\n",
       "       [ 1.00000000e+00, -1.84909740e+00,  3.41916120e+00,\n",
       "        -6.32236209e+00],\n",
       "       [ 1.00000000e+00, -2.61729433e+00,  6.85022961e+00,\n",
       "        -1.79290671e+01],\n",
       "       [ 1.00000000e+00, -2.47189393e+00,  6.11025961e+00,\n",
       "        -1.51039137e+01],\n",
       "       [ 1.00000000e+00, -2.38366250e+00,  5.68184690e+00,\n",
       "        -1.35436054e+01],\n",
       "       [ 1.00000000e+00, -1.27411050e+00,  1.62335757e+00,\n",
       "        -2.06833694e+00],\n",
       "       [ 1.00000000e+00,  2.35530425e+00,  5.54745811e+00,\n",
       "         1.30659517e+01],\n",
       "       [ 1.00000000e+00, -1.61262808e+00,  2.60056933e+00,\n",
       "        -4.19375112e+00],\n",
       "       [ 1.00000000e+00, -1.05268387e-01,  1.10814333e-02,\n",
       "        -1.16652462e-03],\n",
       "       [ 1.00000000e+00,  2.49481755e+00,  6.22411461e+00,\n",
       "         1.55280304e+01],\n",
       "       [ 1.00000000e+00, -8.26499091e-01,  6.83100747e-01,\n",
       "        -5.64582146e-01],\n",
       "       [ 1.00000000e+00, -1.58586125e+00,  2.51495591e+00,\n",
       "        -3.98837112e+00],\n",
       "       [ 1.00000000e+00,  1.20375586e+00,  1.44902816e+00,\n",
       "         1.74427614e+00],\n",
       "       [ 1.00000000e+00, -5.17758850e-01,  2.68074226e-01,\n",
       "        -1.38797803e-01],\n",
       "       [ 1.00000000e+00,  1.80081974e+00,  3.24295173e+00,\n",
       "         5.83997149e+00],\n",
       "       [ 1.00000000e+00, -1.16438333e+00,  1.35578854e+00,\n",
       "        -1.57865758e+00],\n",
       "       [ 1.00000000e+00, -2.73624509e+00,  7.48703721e+00,\n",
       "        -2.04863688e+01],\n",
       "       [ 1.00000000e+00, -9.01693676e-01,  8.13051485e-01,\n",
       "        -7.33123382e-01],\n",
       "       [ 1.00000000e+00, -1.15822426e+00,  1.34148343e+00,\n",
       "        -1.55373865e+00],\n",
       "       [ 1.00000000e+00,  4.89003799e-01,  2.39124715e-01,\n",
       "         1.16932894e-01],\n",
       "       [ 1.00000000e+00,  1.07476348e+00,  1.15511653e+00,\n",
       "         1.24147705e+00],\n",
       "       [ 1.00000000e+00,  1.08998745e+00,  1.18807265e+00,\n",
       "         1.29498428e+00],\n",
       "       [ 1.00000000e+00,  1.43332738e+00,  2.05442739e+00,\n",
       "         2.94466704e+00],\n",
       "       [ 1.00000000e+00,  2.77697174e+00,  7.71157204e+00,\n",
       "         2.14148176e+01],\n",
       "       [ 1.00000000e+00, -1.79233594e+00,  3.21246814e+00,\n",
       "        -5.75782212e+00],\n",
       "       [ 1.00000000e+00,  2.57177797e+00,  6.61404193e+00,\n",
       "         1.70098473e+01],\n",
       "       [ 1.00000000e+00,  9.07268199e-01,  8.23135584e-01,\n",
       "         7.46804739e-01],\n",
       "       [ 1.00000000e+00,  2.70328277e+00,  7.30773775e+00,\n",
       "         1.97548816e+01],\n",
       "       [ 1.00000000e+00,  2.96051002e+00,  8.76461958e+00,\n",
       "         2.59477441e+01],\n",
       "       [ 1.00000000e+00,  8.62522525e-01,  7.43945106e-01,\n",
       "         6.41669411e-01],\n",
       "       [ 1.00000000e+00, -1.99877004e+00,  3.99508168e+00,\n",
       "        -7.98524958e+00],\n",
       "       [ 1.00000000e+00, -1.60185661e+00,  2.56594459e+00,\n",
       "        -4.11027530e+00],\n",
       "       [ 1.00000000e+00, -2.93762682e+00,  8.62965131e+00,\n",
       "        -2.53506951e+01],\n",
       "       [ 1.00000000e+00,  1.31001784e+00,  1.71614674e+00,\n",
       "         2.24818285e+00],\n",
       "       [ 1.00000000e+00, -1.35564119e+00,  1.83776302e+00,\n",
       "        -2.49134724e+00],\n",
       "       [ 1.00000000e+00,  1.64128237e+00,  2.69380781e+00,\n",
       "         4.42129925e+00],\n",
       "       [ 1.00000000e+00, -2.45474380e+00,  6.02576710e+00,\n",
       "        -1.47917144e+01],\n",
       "       [ 1.00000000e+00,  2.86043467e+00,  8.18208653e+00,\n",
       "         2.34043240e+01],\n",
       "       [ 1.00000000e+00, -1.76532858e+00,  3.11638501e+00,\n",
       "        -5.50144353e+00],\n",
       "       [ 1.00000000e+00,  5.20821684e-01,  2.71255227e-01,\n",
       "         1.41275604e-01],\n",
       "       [ 1.00000000e+00, -1.63892213e+00,  2.68606576e+00,\n",
       "        -4.40225264e+00],\n",
       "       [ 1.00000000e+00,  2.10519102e+00,  4.43182922e+00,\n",
       "         9.32984706e+00],\n",
       "       [ 1.00000000e+00,  2.50107195e-01,  6.25536090e-02,\n",
       "         1.56451077e-02],\n",
       "       [ 1.00000000e+00,  1.06156827e+00,  1.12692718e+00,\n",
       "         1.19631013e+00],\n",
       "       [ 1.00000000e+00,  8.90395097e-01,  7.92803429e-01,\n",
       "         7.05908286e-01],\n",
       "       [ 1.00000000e+00, -4.31074299e-01,  1.85825052e-01,\n",
       "        -8.01044039e-02],\n",
       "       [ 1.00000000e+00, -2.24765366e+00,  5.05194696e+00,\n",
       "        -1.13550271e+01],\n",
       "       [ 1.00000000e+00, -2.23970557e+00,  5.01628106e+00,\n",
       "        -1.12349926e+01],\n",
       "       [ 1.00000000e+00, -1.03840502e+00,  1.07828499e+00,\n",
       "        -1.11969655e+00],\n",
       "       [ 1.00000000e+00,  2.90168103e+00,  8.41975277e+00,\n",
       "         2.44314369e+01],\n",
       "       [ 1.00000000e+00,  2.62139163e+00,  6.87169409e+00,\n",
       "         1.80134014e+01],\n",
       "       [ 1.00000000e+00,  2.33900000e-01,  5.47092100e-02,\n",
       "         1.27964842e-02],\n",
       "       [ 1.00000000e+00, -2.14388249e-01,  4.59623215e-02,\n",
       "        -9.85378164e-03],\n",
       "       [ 1.00000000e+00, -2.08647004e-01,  4.35335721e-02,\n",
       "        -9.08314939e-03],\n",
       "       [ 1.00000000e+00,  1.86846277e+00,  3.49115313e+00,\n",
       "         6.52308966e+00],\n",
       "       [ 1.00000000e+00,  4.14218091e-01,  1.71576627e-01,\n",
       "         7.10701430e-02],\n",
       "       [ 1.00000000e+00, -7.70251020e-01,  5.93286634e-01,\n",
       "        -4.56979635e-01],\n",
       "       [ 1.00000000e+00,  1.95753412e+00,  3.83193983e+00,\n",
       "         7.50115297e+00],\n",
       "       [ 1.00000000e+00,  2.93794047e+00,  8.63149420e+00,\n",
       "         2.53588161e+01],\n",
       "       [ 1.00000000e+00, -2.19587320e+00,  4.82185912e+00,\n",
       "        -1.05881912e+01],\n",
       "       [ 1.00000000e+00,  9.79392729e-01,  9.59210117e-01,\n",
       "         9.39443413e-01],\n",
       "       [ 1.00000000e+00,  1.75598153e+00,  3.08347115e+00,\n",
       "         5.41451840e+00],\n",
       "       [ 1.00000000e+00,  1.19056270e+00,  1.41743953e+00,\n",
       "         1.68755063e+00],\n",
       "       [ 1.00000000e+00,  5.77049136e-01,  3.32985706e-01,\n",
       "         1.92149114e-01],\n",
       "       [ 1.00000000e+00, -5.70531409e-01,  3.25506088e-01,\n",
       "        -1.85711447e-01],\n",
       "       [ 1.00000000e+00,  1.90305416e+00,  3.62161512e+00,\n",
       "         6.89212970e+00],\n",
       "       [ 1.00000000e+00, -2.44794221e+00,  5.99242108e+00,\n",
       "        -1.46691005e+01],\n",
       "       [ 1.00000000e+00,  1.88669056e+00,  3.55960128e+00,\n",
       "         6.71586615e+00],\n",
       "       [ 1.00000000e+00, -1.61713298e+00,  2.61511907e+00,\n",
       "        -4.22899530e+00],\n",
       "       [ 1.00000000e+00,  6.42169224e-01,  4.12381312e-01,\n",
       "         2.64818587e-01],\n",
       "       [ 1.00000000e+00, -2.53062359e+00,  6.40405576e+00,\n",
       "        -1.62062546e+01]])"
      ]
     },
     "execution_count": 28,
     "metadata": {},
     "output_type": "execute_result"
    }
   ],
   "source": [
    "X_train_poly \n"
   ]
  },
  {
   "cell_type": "code",
   "execution_count": 30,
   "id": "2a174c96",
   "metadata": {},
   "outputs": [
    {
     "name": "stdout",
     "output_type": "stream",
     "text": [
      "0.7766979932952024\n"
     ]
    }
   ],
   "source": [
    "#poly regression (improved accuracy: increased degree)\n",
    "from sklearn.metrics import r2_score\n",
    "regression = LinearRegression()\n",
    "regression.fit(X_train_poly, y_train)\n",
    "y_pred = regression.predict(X_test_poly)\n",
    "score = r2_score(y_test, y_pred)\n",
    "print(score)"
   ]
  },
  {
   "cell_type": "code",
   "execution_count": 48,
   "id": "cadd2c93",
   "metadata": {},
   "outputs": [],
   "source": [
    "poly = PolynomialFeatures(degree=16, include_bias=True)\n",
    "X_train_poly = poly.fit_transform(X_train)\n",
    "X_test_poly = poly.transform(X_test)\n",
    "\n"
   ]
  },
  {
   "cell_type": "code",
   "execution_count": 49,
   "id": "d1851f50",
   "metadata": {},
   "outputs": [
    {
     "name": "stdout",
     "output_type": "stream",
     "text": [
      "0.8085758173839732\n"
     ]
    }
   ],
   "source": [
    "#poly regression (improved accuracy: increased degree)\n",
    "from sklearn.metrics import r2_score\n",
    "regression = LinearRegression()\n",
    "regression.fit(X_train_poly, y_train)\n",
    "y_pred = regression.predict(X_test_poly)\n",
    "score = r2_score(y_test, y_pred)\n",
    "print(score)"
   ]
  },
  {
   "cell_type": "code",
   "execution_count": 51,
   "id": "8a6974fa",
   "metadata": {},
   "outputs": [],
   "source": [
    "#prediction\n",
    "X_new = np.linspace(-3, 3, 200).reshape(200,1)\n",
    "X_new_poly = poly.transform(X_new)"
   ]
  },
  {
   "cell_type": "code",
   "execution_count": 52,
   "id": "6287dacb",
   "metadata": {},
   "outputs": [
    {
     "data": {
      "text/plain": [
       "array([[ 1.00000000e+00, -3.00000000e+00,  9.00000000e+00, ...,\n",
       "         4.78296900e+06, -1.43489070e+07,  4.30467210e+07],\n",
       "       [ 1.00000000e+00, -2.96984925e+00,  8.82000455e+00, ...,\n",
       "         4.15223249e+06, -1.23315045e+07,  3.66227095e+07],\n",
       "       [ 1.00000000e+00, -2.93969849e+00,  8.64182723e+00, ...,\n",
       "         3.59947412e+06, -1.05813686e+07,  3.11060335e+07],\n",
       "       ...,\n",
       "       [ 1.00000000e+00,  2.93969849e+00,  8.64182723e+00, ...,\n",
       "         3.59947412e+06,  1.05813686e+07,  3.11060335e+07],\n",
       "       [ 1.00000000e+00,  2.96984925e+00,  8.82000455e+00, ...,\n",
       "         4.15223249e+06,  1.23315045e+07,  3.66227095e+07],\n",
       "       [ 1.00000000e+00,  3.00000000e+00,  9.00000000e+00, ...,\n",
       "         4.78296900e+06,  1.43489070e+07,  4.30467210e+07]])"
      ]
     },
     "execution_count": 52,
     "metadata": {},
     "output_type": "execute_result"
    }
   ],
   "source": [
    "X_new_poly"
   ]
  },
  {
   "cell_type": "code",
   "execution_count": 53,
   "id": "d3804283",
   "metadata": {},
   "outputs": [
    {
     "data": {
      "image/png": "[encoded data removed]",
      "text/plain": [
       "<Figure size 432x288 with 1 Axes>"
      ]
     },
     "metadata": {
      "needs_background": "light"
     },
     "output_type": "display_data"
    }
   ],
   "source": [
    "y_new = regression.predict(X_new_poly)\n",
    "plt.plot(X_new, y_new, \"r-\", linewidth=2, label=\"Predictions\")\n",
    "plt.plot(X_train, y_train, \"b.\", label = 'training points')\n",
    "plt.plot(X_test, y_test, \"g.\", label='Testing points')\n",
    "plt.xlabel(\"X\")\n",
    "plt.ylabel(\"Y\")\n",
    "plt.legend()\n",
    "plt.show()"
   ]
  },
  {
   "cell_type": "markdown",
   "id": "5f975e2b",
   "metadata": {},
   "source": [
    "PIPELINING"
   ]
  },
  {
   "cell_type": "code",
   "execution_count": 55,
   "id": "a25027ae",
   "metadata": {},
   "outputs": [],
   "source": [
    "from sklearn.pipeline import Pipeline"
   ]
  },
  {
   "cell_type": "code",
   "execution_count": 56,
   "id": "df470f90",
   "metadata": {},
   "outputs": [],
   "source": [
    "def poly_regression(degree):\n",
    "    X_new = np.linspace(-3, 3, 200).reshape(200,1)\n",
    "    X_new_poly = poly.transform(X_new)\n",
    "    \n",
    "    poly_features = PolynomialFeatures(degree=degree, include_bias=True)\n",
    "    lin_reg = LinearRegression()\n",
    "    poly_regression=Pipeline([\n",
    "        (\"poly_features\", poly_features),\n",
    "        (\"lin_reg\", lin_reg)\n",
    "    ])\n",
    "    poly_regression.fit(X_train, y_train)\n",
    "    y_pred_new = poly_regression.predict(X_new)\n",
    "    \n",
    "    #plotting prediction line\n",
    "    plt.plot(X_new, y_pred_new, 'r', label = \"Degree\" + str(degree), linewidth=2)\n",
    "    plt.plot(X_train, y_train, \"b.\", linewidth = 3)\n",
    "    plt.plot(X_test, y_test, \"g.\", linewidth=3)\n",
    "    plt.legend(loc=\"upper left\")\n",
    "    plt.xlabel(\"X\")\n",
    "    plt.ylabel(\"y\")\n",
    "    plt.axis([-4, 4, 0, 10])\n",
    "    plt.show()"
   ]
  },
  {
   "cell_type": "code",
   "execution_count": 57,
   "id": "1f4fbe24",
   "metadata": {},
   "outputs": [
    {
     "data": {
      "image/png": "[encoded data removed]",
      "text/plain": [
       "<Figure size 432x288 with 1 Axes>"
      ]
     },
     "metadata": {
      "needs_background": "light"
     },
     "output_type": "display_data"
    }
   ],
   "source": [
    "poly_regression(3)"
   ]
  },
  {
   "cell_type": "code",
   "execution_count": 58,
   "id": "9d21895d",
   "metadata": {},
   "outputs": [
    {
     "data": {
      "image/png": "[encoded data removed]",
      "text/plain": [
       "<Figure size 432x288 with 1 Axes>"
      ]
     },
     "metadata": {
      "needs_background": "light"
     },
     "output_type": "display_data"
    }
   ],
   "source": [
    "poly_regression(13)"
   ]
  },
  {
   "cell_type": "code",
   "execution_count": 59,
   "id": "769a235d",
   "metadata": {},
   "outputs": [
    {
     "data": {
      "image/png": "[encoded data removed]",
      "text/plain": [
       "<Figure size 432x288 with 1 Axes>"
      ]
     },
     "metadata": {
      "needs_background": "light"
     },
     "output_type": "display_data"
    }
   ],
   "source": [
    "poly_regression(5)"
   ]
  },
  {
   "cell_type": "code",
   "execution_count": null,
   "id": "733c84bd",
   "metadata": {},
   "outputs": [],
   "source": []
  }
 ],
 "metadata": {
  "kernelspec": {
   "display_name": "Python 3 (ipykernel)",
   "language": "python",
   "name": "python3"
  },
  "language_info": {
   "codemirror_mode": {
    "name": "ipython",
    "version": 3
   },
   "file_extension": ".py",
   "mimetype": "text/x-python",
   "name": "python",
   "nbconvert_exporter": "python",
   "pygments_lexer": "ipython3",
   "version": "3.9.13"
  }
 },
 "nbformat": 4,
 "nbformat_minor": 5
}
