{
 "cells": [
  {
   "cell_type": "code",
   "execution_count": 1,
   "id": "de57fe8b",
   "metadata": {},
   "outputs": [],
   "source": [
    "import matplotlib.pyplot as plt\n",
    "from sklearn.datasets import make_blobs\n",
    "import pandas as pd\n",
    "import numpy as np\n",
    "%matplotlib inline"
   ]
  },
  {
   "cell_type": "code",
   "execution_count": 2,
   "id": "a739249c",
   "metadata": {},
   "outputs": [],
   "source": [
    "X,y=make_blobs(n_samples=1000,centers=3,n_features=2)"
   ]
  },
  {
   "cell_type": "code",
   "execution_count": 3,
   "id": "77274dcc",
   "metadata": {},
   "outputs": [
    {
     "data": {
      "text/plain": [
       "array([[ -8.1039462 ,  -7.46985841],\n",
       "       [-12.23834668,  -6.63749543],\n",
       "       [  8.41444626,   7.13893929],\n",
       "       ...,\n",
       "       [ -9.81045413,  -6.25760399],\n",
       "       [ -0.80540354,   1.31716998],\n",
       "       [ -2.32805989,  -0.8521324 ]])"
      ]
     },
     "execution_count": 3,
     "metadata": {},
     "output_type": "execute_result"
    }
   ],
   "source": [
    "X\n"
   ]
  },
  {
   "cell_type": "code",
   "execution_count": 4,
   "id": "bfa89e58",
   "metadata": {},
   "outputs": [
    {
     "data": {
      "text/plain": [
       "array([2, 2, 0, 0, 2, 2, 0, 2, 0, 0, 2, 2, 2, 0, 1, 2, 2, 0, 0, 0, 0, 2,\n",
       "       0, 2, 2, 1, 0, 0, 0, 1, 0, 1, 1, 0, 0, 2, 2, 2, 2, 1, 2, 1, 0, 1,\n",
       "       1, 0, 2, 1, 2, 2, 0, 1, 1, 1, 1, 2, 1, 1, 1, 2, 2, 0, 0, 1, 2, 2,\n",
       "       1, 0, 0, 2, 2, 1, 0, 2, 1, 1, 0, 2, 2, 2, 0, 2, 0, 0, 0, 1, 0, 1,\n",
       "       1, 1, 2, 0, 1, 2, 0, 2, 1, 2, 2, 0, 1, 2, 0, 1, 0, 1, 2, 2, 0, 1,\n",
       "       2, 2, 1, 1, 2, 2, 0, 2, 0, 1, 0, 0, 1, 2, 1, 1, 0, 2, 1, 0, 2, 1,\n",
       "       1, 0, 0, 2, 0, 2, 2, 2, 0, 1, 0, 1, 1, 2, 0, 2, 0, 2, 2, 0, 0, 2,\n",
       "       2, 1, 1, 1, 2, 1, 0, 1, 2, 2, 0, 0, 2, 1, 0, 2, 2, 1, 1, 1, 0, 1,\n",
       "       1, 0, 0, 2, 0, 0, 2, 0, 1, 1, 0, 0, 0, 1, 2, 2, 1, 0, 1, 1, 0, 0,\n",
       "       2, 0, 1, 1, 0, 1, 2, 2, 1, 2, 1, 0, 0, 2, 2, 2, 2, 2, 0, 1, 0, 1,\n",
       "       0, 0, 0, 0, 2, 0, 2, 0, 1, 0, 1, 1, 2, 2, 2, 1, 0, 2, 1, 1, 1, 0,\n",
       "       0, 0, 1, 0, 2, 1, 1, 1, 2, 0, 2, 1, 0, 1, 1, 0, 1, 1, 1, 2, 1, 0,\n",
       "       2, 0, 1, 0, 2, 1, 2, 2, 1, 1, 1, 0, 2, 0, 0, 1, 1, 1, 1, 1, 2, 0,\n",
       "       2, 1, 2, 2, 1, 1, 2, 2, 2, 0, 1, 0, 1, 0, 2, 0, 2, 2, 0, 0, 0, 2,\n",
       "       2, 1, 1, 2, 1, 1, 0, 1, 0, 2, 1, 0, 0, 2, 2, 0, 2, 2, 0, 2, 1, 0,\n",
       "       1, 0, 0, 2, 0, 1, 1, 1, 2, 0, 1, 0, 1, 1, 2, 1, 2, 0, 1, 2, 1, 1,\n",
       "       0, 2, 0, 1, 1, 2, 2, 0, 0, 2, 0, 2, 1, 2, 1, 0, 2, 0, 0, 1, 2, 0,\n",
       "       1, 0, 1, 2, 1, 2, 2, 2, 2, 2, 2, 0, 1, 2, 0, 1, 1, 0, 1, 0, 2, 0,\n",
       "       1, 2, 2, 1, 2, 1, 1, 2, 1, 1, 2, 2, 1, 1, 0, 2, 0, 0, 0, 2, 2, 1,\n",
       "       0, 2, 1, 1, 1, 1, 1, 0, 0, 0, 2, 2, 0, 0, 1, 1, 2, 0, 0, 2, 2, 0,\n",
       "       1, 1, 2, 1, 1, 0, 1, 1, 0, 1, 0, 0, 2, 1, 0, 0, 0, 1, 2, 1, 0, 0,\n",
       "       0, 1, 0, 2, 0, 0, 1, 0, 0, 0, 0, 1, 0, 0, 2, 2, 0, 1, 0, 0, 1, 0,\n",
       "       1, 0, 0, 0, 1, 0, 1, 0, 2, 1, 0, 0, 1, 1, 1, 1, 1, 2, 0, 0, 0, 0,\n",
       "       0, 2, 1, 1, 0, 2, 0, 0, 2, 2, 1, 2, 0, 1, 2, 2, 1, 1, 0, 1, 1, 2,\n",
       "       1, 1, 0, 0, 1, 2, 2, 0, 1, 1, 1, 1, 1, 2, 1, 1, 2, 0, 1, 2, 0, 1,\n",
       "       1, 0, 0, 0, 1, 2, 0, 0, 0, 0, 1, 0, 2, 1, 0, 2, 2, 1, 2, 0, 0, 2,\n",
       "       1, 0, 0, 2, 0, 1, 0, 2, 2, 1, 2, 1, 0, 2, 2, 1, 2, 0, 1, 0, 2, 0,\n",
       "       1, 2, 0, 1, 2, 1, 1, 0, 1, 2, 2, 2, 2, 0, 0, 0, 0, 0, 2, 2, 2, 1,\n",
       "       0, 1, 2, 2, 2, 1, 2, 2, 2, 1, 1, 1, 1, 0, 1, 1, 0, 1, 0, 2, 2, 1,\n",
       "       1, 1, 0, 1, 1, 2, 0, 1, 2, 2, 0, 2, 0, 1, 1, 2, 0, 0, 0, 1, 0, 0,\n",
       "       2, 0, 0, 1, 2, 1, 2, 1, 2, 1, 1, 0, 0, 1, 0, 2, 1, 2, 2, 0, 2, 1,\n",
       "       1, 1, 2, 0, 2, 2, 0, 2, 2, 1, 1, 2, 2, 2, 1, 0, 1, 0, 1, 0, 2, 0,\n",
       "       1, 2, 2, 0, 1, 2, 0, 2, 1, 2, 2, 0, 2, 0, 0, 1, 2, 1, 2, 1, 0, 2,\n",
       "       2, 2, 2, 2, 1, 2, 0, 0, 1, 2, 1, 2, 2, 1, 2, 1, 2, 2, 0, 0, 1, 1,\n",
       "       1, 1, 1, 2, 2, 2, 2, 0, 2, 0, 2, 0, 1, 1, 1, 1, 1, 0, 2, 1, 1, 1,\n",
       "       2, 0, 1, 1, 1, 0, 0, 0, 0, 2, 0, 2, 0, 2, 0, 0, 2, 2, 0, 2, 1, 2,\n",
       "       2, 2, 1, 1, 1, 1, 0, 1, 0, 1, 2, 0, 2, 0, 0, 0, 0, 2, 0, 1, 1, 0,\n",
       "       2, 0, 2, 0, 2, 1, 2, 1, 2, 0, 1, 1, 2, 1, 0, 2, 1, 1, 2, 2, 2, 2,\n",
       "       2, 1, 2, 1, 2, 2, 2, 0, 0, 2, 2, 1, 1, 1, 2, 2, 1, 0, 1, 0, 2, 0,\n",
       "       1, 2, 0, 0, 2, 1, 0, 2, 0, 2, 0, 0, 0, 2, 2, 1, 1, 2, 0, 2, 0, 0,\n",
       "       1, 2, 2, 1, 1, 2, 0, 2, 1, 2, 1, 2, 1, 1, 1, 2, 2, 2, 0, 2, 1, 1,\n",
       "       2, 2, 0, 1, 1, 0, 0, 2, 0, 0, 2, 1, 0, 2, 0, 0, 1, 1, 0, 0, 1, 2,\n",
       "       1, 2, 1, 2, 1, 2, 1, 0, 2, 2, 2, 0, 1, 1, 2, 0, 0, 0, 0, 0, 0, 0,\n",
       "       0, 0, 2, 2, 1, 0, 0, 2, 2, 0, 1, 0, 1, 0, 1, 2, 1, 2, 0, 0, 0, 2,\n",
       "       2, 0, 1, 1, 2, 2, 0, 0, 0, 0, 1, 1, 2, 2, 0, 0, 2, 2, 1, 1, 0, 2,\n",
       "       1, 2, 0, 1, 0, 1, 0, 2, 1, 1])"
      ]
     },
     "execution_count": 4,
     "metadata": {},
     "output_type": "execute_result"
    }
   ],
   "source": [
    "y"
   ]
  },
  {
   "cell_type": "code",
   "execution_count": 5,
   "id": "18d20046",
   "metadata": {},
   "outputs": [
    {
     "data": {
      "text/plain": [
       "<matplotlib.collections.PathCollection at 0x236d86bf6a0>"
      ]
     },
     "execution_count": 5,
     "metadata": {},
     "output_type": "execute_result"
    },
    {
     "data": {
      "image/png": "[encoded data removed]",
      "text/plain": [
       "<Figure size 432x288 with 1 Axes>"
      ]
     },
     "metadata": {
      "needs_background": "light"
     },
     "output_type": "display_data"
    }
   ],
   "source": [
    "plt.scatter(X[:,0],X[:,1],c=y)"
   ]
  },
  {
   "cell_type": "code",
   "execution_count": 6,
   "id": "e493a509",
   "metadata": {},
   "outputs": [],
   "source": [
    "## standardization--feature scaling technique\n",
    "from sklearn.preprocessing import StandardScaler\n",
    "scaler=StandardScaler()"
   ]
  },
  {
   "cell_type": "code",
   "execution_count": 7,
   "id": "0e7d935b",
   "metadata": {},
   "outputs": [],
   "source": [
    "from sklearn.model_selection import train_test_split"
   ]
  },
  {
   "cell_type": "code",
   "execution_count": 8,
   "id": "a81f36ee",
   "metadata": {},
   "outputs": [],
   "source": [
    "X_train, X_test, y_train, y_test = train_test_split(\n",
    "    X, y, test_size=0.33, random_state=42)"
   ]
  },
  {
   "cell_type": "code",
   "execution_count": 9,
   "id": "7e5501b7",
   "metadata": {},
   "outputs": [],
   "source": [
    "X_train_scaled=scaler.fit_transform(X_train)\n",
    "X_test_scaled=scaler.transform(X_test)"
   ]
  },
  {
   "cell_type": "code",
   "execution_count": 10,
   "id": "47bb7fc7",
   "metadata": {},
   "outputs": [],
   "source": [
    "from sklearn.cluster import KMeans"
   ]
  },
  {
   "cell_type": "code",
   "execution_count": 11,
   "id": "7240381a",
   "metadata": {},
   "outputs": [
    {
     "name": "stderr",
     "output_type": "stream",
     "text": [
      "C:\\Python 3.9.7\\lib\\site-packages\\sklearn\\cluster\\_kmeans.py:870: FutureWarning: The default value of `n_init` will change from 10 to 'auto' in 1.4. Set the value of `n_init` explicitly to suppress the warning\n",
      "  warnings.warn(\n",
      "C:\\Python 3.9.7\\lib\\site-packages\\sklearn\\cluster\\_kmeans.py:870: FutureWarning: The default value of `n_init` will change from 10 to 'auto' in 1.4. Set the value of `n_init` explicitly to suppress the warning\n",
      "  warnings.warn(\n",
      "C:\\Python 3.9.7\\lib\\site-packages\\sklearn\\cluster\\_kmeans.py:870: FutureWarning: The default value of `n_init` will change from 10 to 'auto' in 1.4. Set the value of `n_init` explicitly to suppress the warning\n",
      "  warnings.warn(\n",
      "C:\\Python 3.9.7\\lib\\site-packages\\sklearn\\cluster\\_kmeans.py:870: FutureWarning: The default value of `n_init` will change from 10 to 'auto' in 1.4. Set the value of `n_init` explicitly to suppress the warning\n",
      "  warnings.warn(\n",
      "C:\\Python 3.9.7\\lib\\site-packages\\sklearn\\cluster\\_kmeans.py:870: FutureWarning: The default value of `n_init` will change from 10 to 'auto' in 1.4. Set the value of `n_init` explicitly to suppress the warning\n",
      "  warnings.warn(\n",
      "C:\\Python 3.9.7\\lib\\site-packages\\sklearn\\cluster\\_kmeans.py:870: FutureWarning: The default value of `n_init` will change from 10 to 'auto' in 1.4. Set the value of `n_init` explicitly to suppress the warning\n",
      "  warnings.warn(\n",
      "C:\\Python 3.9.7\\lib\\site-packages\\sklearn\\cluster\\_kmeans.py:870: FutureWarning: The default value of `n_init` will change from 10 to 'auto' in 1.4. Set the value of `n_init` explicitly to suppress the warning\n",
      "  warnings.warn(\n",
      "C:\\Python 3.9.7\\lib\\site-packages\\sklearn\\cluster\\_kmeans.py:870: FutureWarning: The default value of `n_init` will change from 10 to 'auto' in 1.4. Set the value of `n_init` explicitly to suppress the warning\n",
      "  warnings.warn(\n",
      "C:\\Python 3.9.7\\lib\\site-packages\\sklearn\\cluster\\_kmeans.py:870: FutureWarning: The default value of `n_init` will change from 10 to 'auto' in 1.4. Set the value of `n_init` explicitly to suppress the warning\n",
      "  warnings.warn(\n",
      "C:\\Python 3.9.7\\lib\\site-packages\\sklearn\\cluster\\_kmeans.py:870: FutureWarning: The default value of `n_init` will change from 10 to 'auto' in 1.4. Set the value of `n_init` explicitly to suppress the warning\n",
      "  warnings.warn(\n"
     ]
    }
   ],
   "source": [
    "## Elbow method To select K Value\n",
    "wcss=[]\n",
    "for k in range(1,11):\n",
    "    kmeans=KMeans(n_clusters=k,init=\"k-means++\")\n",
    "    kmeans.fit(X_train_scaled)\n",
    "    wcss.append(kmeans.inertia_)"
   ]
  },
  {
   "cell_type": "code",
   "execution_count": 12,
   "id": "7ecca28c",
   "metadata": {},
   "outputs": [
    {
     "data": {
      "text/plain": [
       "[1339.9999999999993,\n",
       " 299.7400533773912,\n",
       " 27.201612962827713,\n",
       " 23.33512024386697,\n",
       " 19.617063658256832,\n",
       " 16.450230571042283,\n",
       " 14.722336922232651,\n",
       " 13.254195337234338,\n",
       " 11.553674304317088,\n",
       " 10.424079070960891]"
      ]
     },
     "execution_count": 12,
     "metadata": {},
     "output_type": "execute_result"
    }
   ],
   "source": [
    "wcss"
   ]
  },
  {
   "cell_type": "code",
   "execution_count": 13,
   "id": "f1b71677",
   "metadata": {},
   "outputs": [
    {
     "data": {
      "image/png": "[encoded data removed]",
      "text/plain": [
       "<Figure size 432x288 with 1 Axes>"
      ]
     },
     "metadata": {
      "needs_background": "light"
     },
     "output_type": "display_data"
    }
   ],
   "source": [
    "## plot elbow curve\n",
    "plt.plot(range(1,11),wcss)\n",
    "plt.xticks(range(1,11))\n",
    "plt.xlabel(\"Number of Clustrers\")\n",
    "plt.ylabel(\"WCSS\")\n",
    "plt.show()"
   ]
  },
  {
   "cell_type": "code",
   "execution_count": 14,
   "id": "6f1fffe9",
   "metadata": {},
   "outputs": [],
   "source": [
    "kmeans=KMeans(n_clusters=3,init=\"k-means++\")"
   ]
  },
  {
   "cell_type": "code",
   "execution_count": 15,
   "id": "b117070f",
   "metadata": {},
   "outputs": [
    {
     "name": "stderr",
     "output_type": "stream",
     "text": [
      "C:\\Python 3.9.7\\lib\\site-packages\\sklearn\\cluster\\_kmeans.py:870: FutureWarning: The default value of `n_init` will change from 10 to 'auto' in 1.4. Set the value of `n_init` explicitly to suppress the warning\n",
      "  warnings.warn(\n"
     ]
    },
    {
     "data": {
      "text/plain": [
       "array([0, 1, 1, 0, 1, 0, 1, 1, 1, 2, 1, 2, 2, 2, 1, 2, 0, 1, 1, 0, 0, 2,\n",
       "       1, 1, 2, 2, 1, 2, 0, 2, 2, 1, 1, 0, 0, 0, 2, 0, 0, 2, 1, 1, 0, 2,\n",
       "       0, 0, 0, 1, 0, 0, 2, 1, 1, 1, 0, 1, 2, 2, 2, 2, 2, 2, 2, 0, 1, 2,\n",
       "       2, 1, 0, 1, 1, 0, 2, 0, 1, 1, 2, 1, 2, 1, 2, 0, 1, 1, 0, 0, 2, 1,\n",
       "       0, 2, 0, 0, 0, 1, 2, 0, 0, 0, 2, 2, 0, 0, 0, 0, 0, 1, 1, 1, 1, 2,\n",
       "       0, 2, 2, 1, 0, 1, 2, 2, 2, 2, 1, 2, 0, 1, 2, 0, 1, 2, 0, 0, 2, 2,\n",
       "       1, 1, 2, 0, 1, 2, 2, 2, 2, 2, 2, 2, 2, 0, 0, 1, 1, 0, 0, 0, 1, 2,\n",
       "       1, 2, 0, 0, 2, 2, 0, 2, 1, 2, 0, 0, 2, 1, 0, 1, 1, 0, 0, 0, 1, 2,\n",
       "       1, 1, 2, 1, 0, 2, 2, 1, 1, 1, 0, 1, 0, 0, 2, 1, 0, 2, 0, 0, 1, 2,\n",
       "       2, 1, 0, 0, 1, 1, 0, 1, 1, 2, 2, 2, 0, 1, 0, 0, 1, 0, 0, 2, 0, 0,\n",
       "       0, 2, 1, 2, 2, 1, 0, 1, 1, 1, 2, 2, 1, 2, 0, 2, 1, 0, 0, 0, 1, 2,\n",
       "       1, 0, 1, 1, 0, 0, 2, 2, 0, 0, 1, 2, 0, 1, 2, 1, 1, 2, 0, 0, 2, 1,\n",
       "       2, 1, 2, 2, 0, 1, 0, 1, 1, 2, 2, 0, 1, 1, 0, 1, 0, 0, 0, 2, 2, 0,\n",
       "       2, 1, 1, 0, 1, 2, 1, 2, 1, 1, 1, 2, 0, 1, 0, 0, 2, 0, 1, 0, 0, 1,\n",
       "       1, 0, 2, 0, 1, 0, 2, 0, 1, 1, 2, 1, 2, 2, 0, 0, 0, 2, 1, 1, 1, 0,\n",
       "       0, 2, 2, 0, 1, 1, 0, 2, 2, 1, 2, 1, 0, 0, 2, 2, 0, 1, 0, 1, 0, 0,\n",
       "       2, 0, 0, 1, 1, 2, 2, 1, 2, 1, 1, 0, 1, 2, 0, 0, 0, 1, 0, 0, 1, 2,\n",
       "       0, 2, 1, 0, 1, 0, 2, 0, 2, 2, 1, 0, 1, 0, 0, 2, 2, 0, 0, 2, 1, 1,\n",
       "       2, 0, 0, 1, 1, 1, 1, 0, 2, 1, 1, 0, 2, 2, 0, 1, 1, 2, 2, 2, 1, 1,\n",
       "       0, 2, 1, 2, 2, 2, 1, 2, 0, 2, 2, 2, 2, 2, 1, 0, 0, 0, 0, 1, 1, 1,\n",
       "       0, 2, 1, 0, 0, 0, 1, 1, 2, 0, 2, 0, 2, 2, 1, 1, 1, 1, 0, 0, 0, 2,\n",
       "       2, 2, 2, 1, 0, 0, 2, 1, 0, 0, 2, 2, 2, 0, 2, 2, 0, 1, 2, 1, 0, 2,\n",
       "       0, 2, 0, 0, 1, 2, 2, 1, 0, 1, 0, 0, 2, 2, 2, 2, 1, 1, 2, 2, 1, 2,\n",
       "       2, 1, 1, 1, 2, 1, 2, 1, 1, 1, 0, 1, 0, 2, 2, 1, 2, 2, 0, 0, 2, 2,\n",
       "       0, 2, 2, 1, 0, 0, 0, 1, 2, 1, 0, 0, 1, 2, 0, 1, 1, 2, 1, 2, 2, 2,\n",
       "       1, 1, 1, 0, 2, 0, 1, 2, 0, 2, 2, 2, 0, 0, 0, 0, 1, 0, 0, 0, 0, 1,\n",
       "       2, 2, 2, 1, 1, 2, 1, 1, 2, 0, 2, 1, 2, 1, 2, 0, 0, 0, 1, 0, 0, 2,\n",
       "       0, 0, 2, 0, 0, 1, 0, 2, 0, 0, 0, 2, 2, 1, 2, 1, 1, 0, 1, 1, 2, 1,\n",
       "       0, 2, 0, 1, 1, 1, 1, 2, 0, 0, 0, 2, 0, 2, 0, 2, 1, 2, 1, 1, 2, 2,\n",
       "       0, 1, 0, 1, 0, 0, 0, 0, 2, 2, 1, 0, 1, 2, 1, 0, 1, 2, 1, 2, 1, 0,\n",
       "       0, 1, 0, 2, 2, 1, 1, 0, 0, 0])"
      ]
     },
     "execution_count": 15,
     "metadata": {},
     "output_type": "execute_result"
    }
   ],
   "source": [
    "kmeans.fit_predict(X_train_scaled)"
   ]
  },
  {
   "cell_type": "code",
   "execution_count": 16,
   "id": "c76bc92c",
   "metadata": {},
   "outputs": [],
   "source": [
    "y_pred=kmeans.predict(X_test_scaled)"
   ]
  },
  {
   "cell_type": "code",
   "execution_count": 17,
   "id": "ed276694",
   "metadata": {},
   "outputs": [
    {
     "data": {
      "text/plain": [
       "array([1, 1, 1, 1, 1, 1, 2, 0, 1, 0, 2, 0, 1, 1, 1, 1, 2, 2, 2, 0, 2, 0,\n",
       "       2, 1, 0, 2, 1, 2, 1, 0, 1, 1, 2, 2, 0, 1, 1, 0, 2, 1, 2, 2, 2, 0,\n",
       "       0, 0, 2, 0, 0, 2, 0, 0, 1, 0, 1, 0, 2, 1, 0, 1, 2, 2, 2, 0, 1, 2,\n",
       "       0, 0, 1, 2, 1, 2, 2, 2, 1, 1, 2, 2, 0, 1, 0, 2, 0, 0, 2, 0, 2, 1,\n",
       "       1, 1, 1, 0, 2, 0, 1, 0, 2, 2, 2, 1, 1, 2, 2, 2, 1, 0, 2, 0, 0, 0,\n",
       "       2, 0, 1, 1, 0, 2, 2, 2, 1, 1, 2, 0, 1, 2, 1, 0, 2, 0, 1, 0, 2, 2,\n",
       "       0, 2, 2, 1, 0, 1, 2, 0, 2, 2, 2, 2, 2, 0, 0, 2, 1, 1, 1, 1, 0, 1,\n",
       "       0, 0, 2, 0, 1, 2, 1, 2, 1, 0, 1, 1, 2, 1, 0, 2, 1, 2, 1, 1, 0, 1,\n",
       "       0, 2, 1, 1, 0, 2, 1, 2, 1, 1, 2, 1, 0, 2, 1, 1, 0, 0, 1, 2, 0, 2,\n",
       "       1, 1, 2, 0, 1, 0, 1, 0, 0, 2, 0, 2, 1, 2, 1, 2, 0, 0, 1, 2, 0, 2,\n",
       "       0, 2, 0, 1, 1, 0, 1, 2, 0, 2, 1, 0, 0, 1, 0, 2, 2, 1, 2, 1, 0, 1,\n",
       "       1, 2, 0, 2, 0, 1, 0, 1, 0, 1, 1, 2, 1, 0, 2, 0, 2, 1, 1, 1, 1, 2,\n",
       "       1, 0, 0, 1, 2, 1, 2, 0, 2, 1, 2, 0, 0, 1, 1, 1, 2, 2, 2, 2, 1, 0,\n",
       "       0, 2, 0, 2, 0, 2, 1, 0, 0, 2, 0, 1, 1, 2, 1, 2, 2, 2, 0, 1, 0, 0,\n",
       "       1, 2, 2, 0, 2, 0, 0, 2, 2, 0, 1, 1, 1, 0, 1, 2, 0, 0, 2, 0, 1, 0])"
      ]
     },
     "execution_count": 17,
     "metadata": {},
     "output_type": "execute_result"
    }
   ],
   "source": [
    "y_pred"
   ]
  },
  {
   "cell_type": "code",
   "execution_count": 18,
   "id": "a1da4706",
   "metadata": {},
   "outputs": [
    {
     "data": {
      "text/plain": [
       "<matplotlib.collections.PathCollection at 0x236e0e7ffd0>"
      ]
     },
     "execution_count": 18,
     "metadata": {},
     "output_type": "execute_result"
    },
    {
     "data": {
      "image/png": "[encoded data removed]",
      "text/plain": [
       "<Figure size 432x288 with 1 Axes>"
      ]
     },
     "metadata": {
      "needs_background": "light"
     },
     "output_type": "display_data"
    }
   ],
   "source": [
    "plt.scatter(X_test[:,0],X_test[:,1],c=y_pred)"
   ]
  },
  {
   "cell_type": "code",
   "execution_count": 19,
   "id": "22e1c974",
   "metadata": {},
   "outputs": [
    {
     "name": "stdout",
     "output_type": "stream",
     "text": [
      "Collecting kneed\n",
      "  Downloading kneed-0.8.5-py3-none-any.whl.metadata (5.5 kB)\n",
      "Requirement already satisfied: numpy>=1.14.2 in c:\\python 3.9.7\\lib\\site-packages (from kneed) (1.24.4)\n",
      "Requirement already satisfied: scipy>=1.0.0 in c:\\python 3.9.7\\lib\\site-packages (from kneed) (1.9.1)\n",
      "Downloading kneed-0.8.5-py3-none-any.whl (10 kB)\n",
      "Installing collected packages: kneed\n",
      "Successfully installed kneed-0.8.5\n"
     ]
    },
    {
     "name": "stderr",
     "output_type": "stream",
     "text": [
      "WARNING: Error parsing dependencies of bleach: Expected matching RIGHT_PARENTHESIS for LEFT_PARENTHESIS, after version specifier\n",
      "    tinycss2 (>=1.1.0<1.2) ; extra == 'css'\n",
      "             ~~~~~~~~^\n",
      "\n",
      "[notice] A new release of pip is available: 24.3.1 -> 25.2\n",
      "[notice] To update, run: python.exe -m pip install --upgrade pip\n"
     ]
    }
   ],
   "source": [
    "## kneelocator\n",
    "!pip install kneed"
   ]
  },
  {
   "cell_type": "code",
   "execution_count": 20,
   "id": "8f431e75",
   "metadata": {},
   "outputs": [],
   "source": [
    "from kneed import KneeLocator"
   ]
  },
  {
   "cell_type": "code",
   "execution_count": 21,
   "id": "72d0b6d2",
   "metadata": {},
   "outputs": [],
   "source": [
    "kl=KneeLocator(range(1,11),wcss,curve=\"convex\",direction=\"decreasing\")"
   ]
  },
  {
   "cell_type": "code",
   "execution_count": 22,
   "id": "9ead9e9d",
   "metadata": {},
   "outputs": [
    {
     "data": {
      "text/plain": [
       "3"
      ]
     },
     "execution_count": 22,
     "metadata": {},
     "output_type": "execute_result"
    }
   ],
   "source": [
    "kl.elbow"
   ]
  },
  {
   "cell_type": "code",
   "execution_count": 23,
   "id": "ffcaccc8",
   "metadata": {},
   "outputs": [],
   "source": [
    "## silhoutte score\n",
    "from sklearn.metrics import silhouette_score"
   ]
  },
  {
   "cell_type": "code",
   "execution_count": 24,
   "id": "0b21cc5a",
   "metadata": {},
   "outputs": [
    {
     "name": "stderr",
     "output_type": "stream",
     "text": [
      "C:\\Python 3.9.7\\lib\\site-packages\\sklearn\\cluster\\_kmeans.py:870: FutureWarning: The default value of `n_init` will change from 10 to 'auto' in 1.4. Set the value of `n_init` explicitly to suppress the warning\n",
      "  warnings.warn(\n",
      "C:\\Python 3.9.7\\lib\\site-packages\\sklearn\\cluster\\_kmeans.py:870: FutureWarning: The default value of `n_init` will change from 10 to 'auto' in 1.4. Set the value of `n_init` explicitly to suppress the warning\n",
      "  warnings.warn(\n",
      "C:\\Python 3.9.7\\lib\\site-packages\\sklearn\\cluster\\_kmeans.py:870: FutureWarning: The default value of `n_init` will change from 10 to 'auto' in 1.4. Set the value of `n_init` explicitly to suppress the warning\n",
      "  warnings.warn(\n",
      "C:\\Python 3.9.7\\lib\\site-packages\\sklearn\\cluster\\_kmeans.py:870: FutureWarning: The default value of `n_init` will change from 10 to 'auto' in 1.4. Set the value of `n_init` explicitly to suppress the warning\n",
      "  warnings.warn(\n",
      "C:\\Python 3.9.7\\lib\\site-packages\\sklearn\\cluster\\_kmeans.py:870: FutureWarning: The default value of `n_init` will change from 10 to 'auto' in 1.4. Set the value of `n_init` explicitly to suppress the warning\n",
      "  warnings.warn(\n",
      "C:\\Python 3.9.7\\lib\\site-packages\\sklearn\\cluster\\_kmeans.py:870: FutureWarning: The default value of `n_init` will change from 10 to 'auto' in 1.4. Set the value of `n_init` explicitly to suppress the warning\n",
      "  warnings.warn(\n",
      "C:\\Python 3.9.7\\lib\\site-packages\\sklearn\\cluster\\_kmeans.py:870: FutureWarning: The default value of `n_init` will change from 10 to 'auto' in 1.4. Set the value of `n_init` explicitly to suppress the warning\n",
      "  warnings.warn(\n",
      "C:\\Python 3.9.7\\lib\\site-packages\\sklearn\\cluster\\_kmeans.py:870: FutureWarning: The default value of `n_init` will change from 10 to 'auto' in 1.4. Set the value of `n_init` explicitly to suppress the warning\n",
      "  warnings.warn(\n",
      "C:\\Python 3.9.7\\lib\\site-packages\\sklearn\\cluster\\_kmeans.py:870: FutureWarning: The default value of `n_init` will change from 10 to 'auto' in 1.4. Set the value of `n_init` explicitly to suppress the warning\n",
      "  warnings.warn(\n"
     ]
    }
   ],
   "source": [
    "silhouette_coefficients=[]\n",
    "for k in range(2,11):\n",
    "    kmeans=KMeans(n_clusters=k,init=\"k-means++\")\n",
    "    kmeans.fit(X_train_scaled)\n",
    "    score=silhouette_score(X_train_scaled,kmeans.labels_)\n",
    "    silhouette_coefficients.append(score)"
   ]
  },
  {
   "cell_type": "code",
   "execution_count": 25,
   "id": "241cab74",
   "metadata": {},
   "outputs": [
    {
     "data": {
      "text/plain": [
       "[0.7151929503956483,\n",
       " 0.846270190185481,\n",
       " 0.6861473871727976,\n",
       " 0.5162532432938728,\n",
       " 0.35258468322295217,\n",
       " 0.35765862182457925,\n",
       " 0.352805017803791,\n",
       " 0.3403153481870257,\n",
       " 0.35459647573990427]"
      ]
     },
     "execution_count": 25,
     "metadata": {},
     "output_type": "execute_result"
    }
   ],
   "source": [
    "silhouette_coefficients"
   ]
  },
  {
   "cell_type": "code",
   "execution_count": null,
   "id": "6d7fdbaa",
   "metadata": {},
   "outputs": [],
   "source": []
  }
 ],
 "metadata": {
  "kernelspec": {
   "display_name": "Python 3 (ipykernel)",
   "language": "python",
   "name": "python3"
  },
  "language_info": {
   "codemirror_mode": {
    "name": "ipython",
    "version": 3
   },
   "file_extension": ".py",
   "mimetype": "text/x-python",
   "name": "python",
   "nbconvert_exporter": "python",
   "pygments_lexer": "ipython3",
   "version": "3.9.13"
  }
 },
 "nbformat": 4,
 "nbformat_minor": 5
}
